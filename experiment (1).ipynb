{
 "cells": [
  {
   "cell_type": "code",
   "execution_count": 1,
   "metadata": {},
   "outputs": [],
   "source": [
    "# Imports\n",
    "import os\n",
    "import warnings\n",
    "import pandas as pd\n",
    "import numpy as np\n",
    "import seaborn as sns\n",
    "import matplotlib.pyplot as plt\n",
    "\n",
    "from sklearn.ensemble import RandomForestClassifier\n",
    "from sklearn.model_selection import train_test_split, GridSearchCV\n",
    "from sklearn.metrics import accuracy_score\n",
    "from sklearn.preprocessing import OneHotEncoder\n",
    "from sklearn.compose import ColumnTransformer\n",
    "\n",
    "warnings.simplefilter(action='ignore', category=DeprecationWarning)\n",
    "pd.set_option('display.max_rows', None)\n",
    "pd.set_option('display.max_columns', None)\n"
   ]
  },
  {
   "cell_type": "code",
   "execution_count": 2,
   "metadata": {},
   "outputs": [],
   "source": [
    "def column_select(df, columns_to_select):\n",
    "    selected_columns = []\n",
    "    for column_name in columns_to_select:\n",
    "        # Check if the column exists in the DataFrame\n",
    "        if column_name in df.columns:\n",
    "            # If the column exists, select it and add it to the list of selected columns\n",
    "            selected_columns.append(column_name)\n",
    "        else:\n",
    "            # If the column does not exist, issue a warning\n",
    "            print(f\"Column '{column_name}' does not exist in the DataFrame.\")\n",
    "\n",
    "    # Select the columns from the DataFrame\n",
    "    return df[selected_columns]\n"
   ]
  },
  {
   "cell_type": "code",
   "execution_count": 3,
   "metadata": {},
   "outputs": [],
   "source": [
    "taluker = [\"hc31\", \"hc61\", \"hv270\", \"v025\"]                                                                             # 2014\n",
    "# ha40 is bmi which is used as target feature\n",
    "islam = [\"v012\", \"v025\", \"hv270\", \"v106\", \"v404\", \"v714\",\"v213\", \"v201\", \"v701\", \"v113\", \"v116\",\"v130\", 'v161', 'ha40']        # 2014\n",
    "\n",
    "# dropped ha66, always NaN\n",
    "\n",
    "\n"
   ]
  },
  {
   "cell_type": "code",
   "execution_count": 4,
   "metadata": {},
   "outputs": [],
   "source": [
    "BDHS_14_child = pd.read_stata(\"./data/2014/BDKR72FL.DTA\")\n",
    "BDHS_14_household = pd.read_stata(\"./data/2014/BDHR72FL.DTA\")\n",
    "BDHS_14_individual = pd.read_stata(\"./data/2014/BDIR72FL.DTA\")\n",
    "BDHS_14_hh_member = pd.read_stata(\"./data/2014/BDPR72FL.DTA\")\n",
    "BDHS_14 = pd.concat([BDHS_14_child,BDHS_14_household, BDHS_14_individual, BDHS_14_hh_member], axis =1)\n"
   ]
  },
  {
   "cell_type": "code",
   "execution_count": 5,
   "metadata": {},
   "outputs": [],
   "source": [
    "# Define the bins and labels\n",
    "bins = [0, 1850, 2490, float('inf')]\n",
    "labels = ['underweight', 'normal', 'obese']\n",
    "\n",
    "age_bins = [15, 20, 30, 40, 50]\n",
    "age_labels = ['15-19', '20-29', '30-39', '40-49']\n",
    "\n",
    "wealth_bins = [-float('inf'), 'poorer', 'middle', 'richer', float('inf')]\n",
    "wealth_labels = ['poor', 'middle', 'rich']\n",
    "\n",
    "children_bins = [-1, 0, 2, 4, 20]\n",
    "children_labels = ['None', '1-2', '3-4', '5 or more']\n",
    "\n"
   ]
  },
  {
   "cell_type": "code",
   "execution_count": 6,
   "metadata": {},
   "outputs": [],
   "source": [
    "islam_df = column_select(BDHS_14, islam)\n",
    "islam_df = islam_df.loc[:, ~islam_df.columns.duplicated()]\n",
    "islam_df['ha40'] = pd.to_numeric(islam_df['ha40'], errors='coerce')\n",
    "islam_df['label'] = pd.cut(islam_df['ha40'], bins=bins, labels=labels, right=False)\n",
    "islam_df['v012'] = pd.cut(islam_df['v012'], bins=age_bins, labels=age_labels, right=False)\n",
    "#islam_df['hv270'] = pd.cut(islam_df['hv270'], bins=wealth_bins, labels=wealth_labels, right=False)\n",
    "islam_df['v201'] = pd.cut(islam_df['v201'], bins=children_bins, labels=children_labels, right=False)\n",
    "\n",
    "\n",
    "threshold = int(0.3 * len(islam_df.columns))\n",
    "islam_df.dropna(thresh=threshold, inplace=True)\n",
    "\n",
    "islam_df = islam_df[islam_df['label'].notna()]\n",
    "islam_df = islam_df.drop('ha40', axis=1)\n",
    "#print(islam_df)"
   ]
  },
  {
   "cell_type": "code",
   "execution_count": 7,
   "metadata": {},
   "outputs": [],
   "source": [
    "#islam_df.dtypes"
   ]
  },
  {
   "cell_type": "code",
   "execution_count": 8,
   "metadata": {},
   "outputs": [
    {
     "data": {
      "text/plain": [
       "['tube well or borehole', 'river/dam/lake/ponds/stream/canal/irrigation ..., 'not a dejure resident', 'public tap/standpipe', 'rainwater', ..., 'piped into dwelling', 'piped to yard/plot', 'bottled water', 'unprotected well', 'unprotected spring']\n",
       "Length: 12\n",
       "Categories (15, object): ['piped into dwelling' < 'piped to yard/plot' < 'public tap/standpipe' < 'tube well or borehole' ... 'cart with small tank' < 'bottled water' < 'other' < 'not a dejure resident']"
      ]
     },
     "execution_count": 8,
     "metadata": {},
     "output_type": "execute_result"
    }
   ],
   "source": [
    "islam_df['v113'].unique()"
   ]
  },
  {
   "cell_type": "code",
   "execution_count": 9,
   "metadata": {},
   "outputs": [],
   "source": [
    "\n",
    "# Define the parameter grid to search over\n",
    "param_grid = {\n",
    "    'n_estimators': [500],  # Number of trees in the forest\n",
    "    'max_depth': [ 8,9, 10, 11,12, None],       # Maximum depth of the tree\n",
    "    #'min_samples_split': [2, 5, 10],   # Minimum number of samples required to split an internal node\n",
    "    #'min_samples_leaf': [ 2, 4,8, 16]      # Minimum number of samples required to be at a leaf node\n",
    "}"
   ]
  },
  {
   "cell_type": "code",
   "execution_count": 10,
   "metadata": {},
   "outputs": [
    {
     "name": "stdout",
     "output_type": "stream",
     "text": [
      "Best Parameters: {'max_depth': 8, 'n_estimators': 500}\n",
      "Best Score: 0.6081979635330335\n",
      "Accuracy: 0.6081871345029239\n"
     ]
    }
   ],
   "source": [
    "from sklearn.feature_extraction import FeatureHasher\n",
    "\n",
    "\n",
    "y = islam_df['label']\n",
    "X = islam_df.drop(['label'], axis=1)\n",
    "\n",
    "X = X.astype(str)\n",
    "\n",
    "# Get the indices of the categorical columns\n",
    "categorical_indices = [i for i, col in enumerate(X.columns) if X[col].dtype.name == 'object']\n",
    "#print(categorical_indices)\n",
    "\n",
    "# Define the transformer for one-hot encoding\n",
    "#ct = ColumnTransformer([('encoder', OneHotEncoder(), categorical_indices)])\n",
    "\n",
    "# Fit and transform the data\n",
    "#X_encoded = ct.fit_transform(X)\n",
    "\n",
    "\n",
    "hasher = FeatureHasher(n_features=10, input_type='string')\n",
    "X_encoded = hasher.fit_transform(X.values)\n",
    "\n",
    "\n",
    "# Split data into train and test sets\n",
    "X_train, X_test, y_train, y_test = train_test_split(X_encoded, y, test_size=0.2, random_state=42)\n",
    "\n",
    "# Further split train set into train and validation sets\n",
    "X_train, X_val, y_train, y_val = train_test_split(X_train, y_train, test_size=0.25, random_state=42)  # 0.25 x 0.8 = 0.2\n",
    "\n",
    "# Initialize the RandomForestClassifier\n",
    "rf_model = RandomForestClassifier(random_state=42)\n",
    "\n",
    "# Initialize GridSearchCV\n",
    "grid_search = GridSearchCV(estimator=rf_model, param_grid=param_grid, cv=5, scoring='accuracy')\n",
    "\n",
    "# Fit the GridSearchCV instance to the data\n",
    "grid_search.fit(X_train, y_train)\n",
    "\n",
    "# Get the best parameters and the best score\n",
    "best_params = grid_search.best_params_\n",
    "best_score = grid_search.best_score_\n",
    "\n",
    "print(\"Best Parameters:\", best_params)\n",
    "print(\"Best Score:\", best_score)\n",
    "\n",
    "# Predict on the test set\n",
    "y_pred = grid_search.predict(X_val)\n",
    "\n",
    "# Calculate accuracy\n",
    "accuracy = accuracy_score(y_val, y_pred)\n",
    "print(\"Accuracy:\", accuracy)"
   ]
  },
  {
   "cell_type": "code",
   "execution_count": null,
   "metadata": {},
   "outputs": [],
   "source": []
  }
 ],
 "metadata": {
  "kernelspec": {
   "display_name": ".venv",
   "language": "python",
   "name": "python3"
  },
  "language_info": {
   "codemirror_mode": {
    "name": "ipython",
    "version": 3
   },
   "file_extension": ".py",
   "mimetype": "text/x-python",
   "name": "python",
   "nbconvert_exporter": "python",
   "pygments_lexer": "ipython3",
   "version": "3.10.12"
  }
 },
 "nbformat": 4,
 "nbformat_minor": 2
}
