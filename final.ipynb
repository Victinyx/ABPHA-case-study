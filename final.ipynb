{
 "cells": [
  {
   "cell_type": "code",
   "execution_count": 1,
   "metadata": {},
   "outputs": [],
   "source": [
    "# Imports\n",
    "import os\n",
    "import warnings\n",
    "import pandas as pd\n",
    "import numpy as np\n",
    "import seaborn as sns\n",
    "import matplotlib.pyplot as plt\n",
    "\n",
    "from sklearn.ensemble import RandomForestClassifier\n",
    "from sklearn.model_selection import train_test_split, GridSearchCV, cross_val_score\n",
    "from sklearn.metrics import accuracy_score\n",
    "from sklearn.preprocessing import OneHotEncoder\n",
    "from sklearn.compose import ColumnTransformer\n",
    "\n",
    "from sklearn.ensemble import GradientBoostingClassifier\n",
    "from sklearn.preprocessing import LabelEncoder\n",
    "\n",
    "from imblearn.over_sampling import RandomOverSampler\n",
    "\n",
    "from sklearn.feature_extraction import FeatureHasher\n",
    "\n",
    "label_encoder = LabelEncoder()\n",
    "\n",
    "from collections import defaultdict\n",
    "\n",
    "warnings.simplefilter(action='ignore', category=DeprecationWarning)\n",
    "pd.set_option('display.max_rows', None)\n",
    "pd.set_option('display.max_columns', None)\n"
   ]
  },
  {
   "cell_type": "code",
   "execution_count": 2,
   "metadata": {},
   "outputs": [],
   "source": [
    "\n",
    "def calculate_class_accuracy(y_true, y_pred):\n",
    "    # Initialize dictionaries to count instances and correct predictions\n",
    "    total_counts = defaultdict(int)\n",
    "    correct_counts = defaultdict(int)\n",
    "    \n",
    "    # Populate the dictionaries with the actual counts\n",
    "    for true_label, pred_label in zip(y_true, y_pred):\n",
    "        total_counts[true_label] += 1\n",
    "        if true_label == pred_label:\n",
    "            correct_counts[true_label] += 1\n",
    "            \n",
    "    # Calculate accuracy for each class\n",
    "    class_accuracy = {}\n",
    "    for label in total_counts:\n",
    "        if total_counts[label] > 0:  # Avoid division by zero\n",
    "            class_accuracy[label] = correct_counts[label] / total_counts[label]\n",
    "        else:\n",
    "            class_accuracy[label] = 0.0\n",
    "            \n",
    "    return class_accuracy\n"
   ]
  },
  {
   "cell_type": "code",
   "execution_count": 3,
   "metadata": {},
   "outputs": [],
   "source": [
    "def column_select(df, columns_to_select):\n",
    "    selected_columns = []\n",
    "    for column_name in columns_to_select:\n",
    "        # Check if the column exists in the DataFrame\n",
    "        if column_name in df.columns:\n",
    "            # If the column exists, select it and add it to the list of selected columns\n",
    "            selected_columns.append(column_name)\n",
    "        else:\n",
    "            # If the column does not exist, issue a warning\n",
    "            print(f\"Column '{column_name}' does not exist in the DataFrame.\")\n",
    "\n",
    "    # Select the columns from the DataFrame\n",
    "    return df[selected_columns]\n"
   ]
  },
  {
   "cell_type": "code",
   "execution_count": 4,
   "metadata": {},
   "outputs": [],
   "source": [
    "def barplot(preds):\n",
    "    categories, counts = np.unique(preds, return_counts=True)\n",
    "    print(counts)\n",
    "    plt.bar(categories, counts)\n",
    "    plt.xlabel(\"label\")\n",
    "    plt.ylabel(\"n entries\")\n",
    "    plt.title(\"entries per label (XGBoost)\")"
   ]
  },
  {
   "cell_type": "code",
   "execution_count": 5,
   "metadata": {},
   "outputs": [],
   "source": [
    "BDHS_14_child = pd.read_stata(\"./data/2014/BDKR72FL.DTA\")\n",
    "BDHS_14_household = pd.read_stata(\"./data/2014/BDHR72FL.DTA\")\n",
    "BDHS_14_individual = pd.read_stata(\"./data/2014/BDIR72FL.DTA\")\n",
    "BDHS_14_hh_member = pd.read_stata(\"./data/2014/BDPR72FL.DTA\")\n",
    "BDHS_14 = pd.concat([BDHS_14_child,BDHS_14_household, BDHS_14_individual, BDHS_14_hh_member], axis =1)\n"
   ]
  },
  {
   "cell_type": "code",
   "execution_count": 6,
   "metadata": {},
   "outputs": [
    {
     "name": "stderr",
     "output_type": "stream",
     "text": [
      "/tmp/ipykernel_1590/136944746.py:7: SettingWithCopyWarning: \n",
      "A value is trying to be set on a copy of a slice from a DataFrame.\n",
      "Try using .loc[row_indexer,col_indexer] = value instead\n",
      "\n",
      "See the caveats in the documentation: https://pandas.pydata.org/pandas-docs/stable/user_guide/indexing.html#returning-a-view-versus-a-copy\n",
      "  islam_df['ha40'] = pd.to_numeric(islam_df['ha40'], errors='coerce')\n",
      "/tmp/ipykernel_1590/136944746.py:9: SettingWithCopyWarning: \n",
      "A value is trying to be set on a copy of a slice from a DataFrame.\n",
      "Try using .loc[row_indexer,col_indexer] = value instead\n",
      "\n",
      "See the caveats in the documentation: https://pandas.pydata.org/pandas-docs/stable/user_guide/indexing.html#returning-a-view-versus-a-copy\n",
      "  islam_df['label'] = pd.cut(islam_df['ha40'], bins=bins, labels=labels, right=False)\n"
     ]
    }
   ],
   "source": [
    "islam = [\"v012\", \"v025\", \"hv270\", \"v106\", \"v404\", \"v714\",\"v213\", \"v201\", \"v701\", \"v113\", \"v116\",\"v130\", 'v161', 'ha40']        # 2014\n",
    "bins = [0, 1850, 2490, float('inf')]\n",
    "labels = ['underweight', 'normal', 'obese']\n",
    "\n",
    "\n",
    "islam_df = column_select(BDHS_14, islam)\n",
    "islam_df['ha40'] = pd.to_numeric(islam_df['ha40'], errors='coerce')\n",
    "\n",
    "islam_df['label'] = pd.cut(islam_df['ha40'], bins=bins, labels=labels, right=False)\n",
    "islam_df = islam_df[islam_df['label'].notna()]\n",
    "islam_df = islam_df.drop('ha40', axis=1)\n",
    "#print(islam_df)"
   ]
  },
  {
   "cell_type": "code",
   "execution_count": 7,
   "metadata": {},
   "outputs": [],
   "source": [
    "\n",
    "\n",
    "y = islam_df['label']\n",
    "X = islam_df.drop(['label'], axis=1)\n",
    "\n",
    "X = X.astype(str)\n",
    "\n",
    "hasher = FeatureHasher(n_features=20, input_type='string')\n",
    "X_encoded = hasher.fit_transform(X.values)\n",
    "\n",
    "\n",
    "# Split data into train and test sets\n",
    "X_train, X_test, y_train, y_test = train_test_split(X_encoded, y, test_size=0.2, random_state=42)\n",
    "ros = RandomOverSampler(random_state=42, sampling_strategy='minority')\n",
    "X_resampled, y_resampled = ros.fit_resample(X_train, y_train)"
   ]
  },
  {
   "cell_type": "code",
   "execution_count": 30,
   "metadata": {},
   "outputs": [
    {
     "name": "stdout",
     "output_type": "stream",
     "text": [
      "Fitting 10 folds for each of 12 candidates, totalling 120 fits\n",
      "Best Parameters: {'learning_rate': 0.2, 'min_samples_split': 10, 'n_estimators': 500, 'subsample': 0.8}\n",
      "Best Score: 0.5109962955791019\n",
      "Accuracy: 0.4661842471472307\n",
      "[1663  745 1185]\n",
      "{'normal': 0.49117647058823527, 'underweight': 0.4893939393939394, 'obese': 0.3919372900335946}\n"
     ]
    },
    {
     "data": {
      "image/png": "[encoded data removed]",
      "text/plain": [
       "<Figure size 640x480 with 1 Axes>"
      ]
     },
     "metadata": {},
     "output_type": "display_data"
    }
   ],
   "source": [
    "# Define the parameter grid to search over\n",
    "param_grid = {\n",
    "    'learning_rate': [0.05, 0.1, 0.2],\n",
    "    'n_estimators': [500 ],  # Number of trees in the forest\n",
    "    'min_samples_split': [10, 15],   # Minimum number of samples required to split an internal node\n",
    "    'subsample': [ 0.4, 0.8],\n",
    "}\n",
    "y_train_encoded = label_encoder.fit_transform(y_resampled)\n",
    "\n",
    "\n",
    "model = GradientBoostingClassifier(random_state=42)\n",
    "\n",
    "grid_search = GridSearchCV(estimator=model, param_grid=param_grid, cv=10, scoring='accuracy', n_jobs=-1, verbose=1)\n",
    "\n",
    "# Fit the GridSearchCV instance to the data\n",
    "grid_search.fit( X_resampled, y_train_encoded)\n",
    "\n",
    "# Get the best parameters and the best score\n",
    "best_params = grid_search.best_params_\n",
    "best_score = grid_search.best_score_\n",
    "\n",
    "print(\"Best Parameters:\", best_params)\n",
    "print(\"Best Score:\", best_score)\n",
    "\n",
    "# Make predictions on the testing data\n",
    "y_pred_encoded = grid_search.predict(X_test)\n",
    "y_pred = label_encoder.inverse_transform(y_pred_encoded)\n",
    "\n",
    "# Evaluate model performance\n",
    "accuracy = accuracy_score(y_test, y_pred)\n",
    "print(\"Accuracy:\", accuracy)\n",
    "\n",
    "barplot(y_pred)\n",
    "class_accuracy = calculate_class_accuracy(y_test, y_pred)\n",
    "print(class_accuracy)"
   ]
  },
  {
   "cell_type": "code",
   "execution_count": 33,
   "metadata": {},
   "outputs": [
    {
     "name": "stdout",
     "output_type": "stream",
     "text": [
      "['normal' 'obese' 'underweight'] [2040  893  660]\n"
     ]
    }
   ],
   "source": [
    "categories, counts = np.unique(y_test, return_counts=True)\n",
    "print(categories,counts)"
   ]
  }
 ],
 "metadata": {
  "kernelspec": {
   "display_name": ".venv",
   "language": "python",
   "name": "python3"
  },
  "language_info": {
   "codemirror_mode": {
    "name": "ipython",
    "version": 3
   },
   "file_extension": ".py",
   "mimetype": "text/x-python",
   "name": "python",
   "nbconvert_exporter": "python",
   "pygments_lexer": "ipython3",
   "version": "3.10.12"
  }
 },
 "nbformat": 4,
 "nbformat_minor": 2
}
